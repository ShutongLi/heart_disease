{
 "cells": [
  {
   "cell_type": "code",
   "execution_count": 1,
   "id": "f53b70a4",
   "metadata": {},
   "outputs": [],
   "source": [
    "import pandas as pd\n",
    "import numpy as np\n",
    "import matplotlib.pyplot as plt\n",
    "import seaborn as sns\n",
    "%matplotlib inline\n",
    "%load_ext autoreload\n",
    "%autoreload 2\n",
    "SEED = 666"
   ]
  },
  {
   "cell_type": "markdown",
   "id": "ba5a1a16",
   "metadata": {},
   "source": [
    "## 1. Data Cleaning (if any)"
   ]
  },
  {
   "cell_type": "code",
   "execution_count": 2,
   "id": "c1510242",
   "metadata": {},
   "outputs": [],
   "source": [
    "from sklearn.model_selection import train_test_split\n",
    "from imblearn.over_sampling import SMOTEN, SMOTENC"
   ]
  },
  {
   "cell_type": "code",
   "execution_count": 3,
   "id": "f109ead2",
   "metadata": {},
   "outputs": [],
   "source": [
    "df = pd.read_csv('heart_disease_health_indicators_BRFSS2015.csv')"
   ]
  },
  {
   "cell_type": "code",
   "execution_count": 4,
   "id": "8bc70f89",
   "metadata": {},
   "outputs": [],
   "source": [
    "df = df.rename(columns={'HeartDiseaseorAttack': 'y'})"
   ]
  },
  {
   "cell_type": "code",
   "execution_count": 5,
   "id": "82615d1f",
   "metadata": {},
   "outputs": [
    {
     "data": {
      "text/plain": [
       "Index(['y', 'HighBP', 'HighChol', 'CholCheck', 'BMI', 'Smoker', 'Stroke',\n",
       "       'Diabetes', 'PhysActivity', 'Fruits', 'Veggies', 'HvyAlcoholConsump',\n",
       "       'AnyHealthcare', 'NoDocbcCost', 'GenHlth', 'MentHlth', 'PhysHlth',\n",
       "       'DiffWalk', 'Sex', 'Age', 'Education', 'Income'],\n",
       "      dtype='object')"
      ]
     },
     "execution_count": 5,
     "metadata": {},
     "output_type": "execute_result"
    }
   ],
   "source": [
    "df.columns"
   ]
  },
  {
   "cell_type": "code",
   "execution_count": 6,
   "id": "44d4a1d5",
   "metadata": {},
   "outputs": [],
   "source": [
    "# stratify_columns = ['y', 'Education']\n",
    "# train, test = train_test_split(df, test_size=0.15, stratify=df[stratify_columns], random_state=SEED)\n",
    "# test.to_csv('hold_out.csv', index=False)\n",
    "# train.to_csv('train.csv', index=False)"
   ]
  },
  {
   "cell_type": "code",
   "execution_count": 7,
   "id": "f45415f8",
   "metadata": {},
   "outputs": [],
   "source": [
    "train = pd.read_csv('train.csv')"
   ]
  },
  {
   "cell_type": "code",
   "execution_count": 8,
   "id": "6f64f105",
   "metadata": {},
   "outputs": [
    {
     "data": {
      "text/plain": [
       "(215628, 22)"
      ]
     },
     "execution_count": 8,
     "metadata": {},
     "output_type": "execute_result"
    }
   ],
   "source": [
    "train.shape"
   ]
  },
  {
   "cell_type": "code",
   "execution_count": 9,
   "id": "5f2c0bd0",
   "metadata": {},
   "outputs": [
    {
     "data": {
      "text/html": [
       "<div>\n",
       "<style scoped>\n",
       "    .dataframe tbody tr th:only-of-type {\n",
       "        vertical-align: middle;\n",
       "    }\n",
       "\n",
       "    .dataframe tbody tr th {\n",
       "        vertical-align: top;\n",
       "    }\n",
       "\n",
       "    .dataframe thead th {\n",
       "        text-align: right;\n",
       "    }\n",
       "</style>\n",
       "<table border=\"1\" class=\"dataframe\">\n",
       "  <thead>\n",
       "    <tr style=\"text-align: right;\">\n",
       "      <th></th>\n",
       "      <th>y</th>\n",
       "      <th>HighBP</th>\n",
       "      <th>HighChol</th>\n",
       "      <th>CholCheck</th>\n",
       "      <th>BMI</th>\n",
       "      <th>Smoker</th>\n",
       "      <th>Stroke</th>\n",
       "      <th>Diabetes</th>\n",
       "      <th>PhysActivity</th>\n",
       "      <th>Fruits</th>\n",
       "      <th>...</th>\n",
       "      <th>AnyHealthcare</th>\n",
       "      <th>NoDocbcCost</th>\n",
       "      <th>GenHlth</th>\n",
       "      <th>MentHlth</th>\n",
       "      <th>PhysHlth</th>\n",
       "      <th>DiffWalk</th>\n",
       "      <th>Sex</th>\n",
       "      <th>Age</th>\n",
       "      <th>Education</th>\n",
       "      <th>Income</th>\n",
       "    </tr>\n",
       "  </thead>\n",
       "  <tbody>\n",
       "    <tr>\n",
       "      <th>0</th>\n",
       "      <td>0.0</td>\n",
       "      <td>0.0</td>\n",
       "      <td>0.0</td>\n",
       "      <td>1.0</td>\n",
       "      <td>28.0</td>\n",
       "      <td>0.0</td>\n",
       "      <td>0.0</td>\n",
       "      <td>0.0</td>\n",
       "      <td>1.0</td>\n",
       "      <td>1.0</td>\n",
       "      <td>...</td>\n",
       "      <td>1.0</td>\n",
       "      <td>0.0</td>\n",
       "      <td>1.0</td>\n",
       "      <td>0.0</td>\n",
       "      <td>0.0</td>\n",
       "      <td>0.0</td>\n",
       "      <td>1.0</td>\n",
       "      <td>9.0</td>\n",
       "      <td>6.0</td>\n",
       "      <td>8.0</td>\n",
       "    </tr>\n",
       "    <tr>\n",
       "      <th>1</th>\n",
       "      <td>0.0</td>\n",
       "      <td>1.0</td>\n",
       "      <td>1.0</td>\n",
       "      <td>1.0</td>\n",
       "      <td>25.0</td>\n",
       "      <td>1.0</td>\n",
       "      <td>0.0</td>\n",
       "      <td>0.0</td>\n",
       "      <td>1.0</td>\n",
       "      <td>0.0</td>\n",
       "      <td>...</td>\n",
       "      <td>1.0</td>\n",
       "      <td>0.0</td>\n",
       "      <td>1.0</td>\n",
       "      <td>0.0</td>\n",
       "      <td>0.0</td>\n",
       "      <td>0.0</td>\n",
       "      <td>1.0</td>\n",
       "      <td>9.0</td>\n",
       "      <td>6.0</td>\n",
       "      <td>8.0</td>\n",
       "    </tr>\n",
       "    <tr>\n",
       "      <th>2</th>\n",
       "      <td>0.0</td>\n",
       "      <td>0.0</td>\n",
       "      <td>0.0</td>\n",
       "      <td>1.0</td>\n",
       "      <td>31.0</td>\n",
       "      <td>1.0</td>\n",
       "      <td>0.0</td>\n",
       "      <td>0.0</td>\n",
       "      <td>0.0</td>\n",
       "      <td>1.0</td>\n",
       "      <td>...</td>\n",
       "      <td>1.0</td>\n",
       "      <td>0.0</td>\n",
       "      <td>2.0</td>\n",
       "      <td>2.0</td>\n",
       "      <td>0.0</td>\n",
       "      <td>0.0</td>\n",
       "      <td>1.0</td>\n",
       "      <td>3.0</td>\n",
       "      <td>5.0</td>\n",
       "      <td>6.0</td>\n",
       "    </tr>\n",
       "    <tr>\n",
       "      <th>3</th>\n",
       "      <td>0.0</td>\n",
       "      <td>1.0</td>\n",
       "      <td>0.0</td>\n",
       "      <td>1.0</td>\n",
       "      <td>24.0</td>\n",
       "      <td>0.0</td>\n",
       "      <td>0.0</td>\n",
       "      <td>0.0</td>\n",
       "      <td>0.0</td>\n",
       "      <td>1.0</td>\n",
       "      <td>...</td>\n",
       "      <td>1.0</td>\n",
       "      <td>0.0</td>\n",
       "      <td>2.0</td>\n",
       "      <td>0.0</td>\n",
       "      <td>0.0</td>\n",
       "      <td>0.0</td>\n",
       "      <td>0.0</td>\n",
       "      <td>7.0</td>\n",
       "      <td>4.0</td>\n",
       "      <td>7.0</td>\n",
       "    </tr>\n",
       "    <tr>\n",
       "      <th>4</th>\n",
       "      <td>0.0</td>\n",
       "      <td>1.0</td>\n",
       "      <td>0.0</td>\n",
       "      <td>1.0</td>\n",
       "      <td>35.0</td>\n",
       "      <td>1.0</td>\n",
       "      <td>0.0</td>\n",
       "      <td>0.0</td>\n",
       "      <td>1.0</td>\n",
       "      <td>0.0</td>\n",
       "      <td>...</td>\n",
       "      <td>1.0</td>\n",
       "      <td>1.0</td>\n",
       "      <td>4.0</td>\n",
       "      <td>4.0</td>\n",
       "      <td>15.0</td>\n",
       "      <td>1.0</td>\n",
       "      <td>0.0</td>\n",
       "      <td>3.0</td>\n",
       "      <td>4.0</td>\n",
       "      <td>4.0</td>\n",
       "    </tr>\n",
       "  </tbody>\n",
       "</table>\n",
       "<p>5 rows × 22 columns</p>\n",
       "</div>"
      ],
      "text/plain": [
       "     y  HighBP  HighChol  CholCheck   BMI  Smoker  Stroke  Diabetes  \\\n",
       "0  0.0     0.0       0.0        1.0  28.0     0.0     0.0       0.0   \n",
       "1  0.0     1.0       1.0        1.0  25.0     1.0     0.0       0.0   \n",
       "2  0.0     0.0       0.0        1.0  31.0     1.0     0.0       0.0   \n",
       "3  0.0     1.0       0.0        1.0  24.0     0.0     0.0       0.0   \n",
       "4  0.0     1.0       0.0        1.0  35.0     1.0     0.0       0.0   \n",
       "\n",
       "   PhysActivity  Fruits  ...  AnyHealthcare  NoDocbcCost  GenHlth  MentHlth  \\\n",
       "0           1.0     1.0  ...            1.0          0.0      1.0       0.0   \n",
       "1           1.0     0.0  ...            1.0          0.0      1.0       0.0   \n",
       "2           0.0     1.0  ...            1.0          0.0      2.0       2.0   \n",
       "3           0.0     1.0  ...            1.0          0.0      2.0       0.0   \n",
       "4           1.0     0.0  ...            1.0          1.0      4.0       4.0   \n",
       "\n",
       "   PhysHlth  DiffWalk  Sex  Age  Education  Income  \n",
       "0       0.0       0.0  1.0  9.0        6.0     8.0  \n",
       "1       0.0       0.0  1.0  9.0        6.0     8.0  \n",
       "2       0.0       0.0  1.0  3.0        5.0     6.0  \n",
       "3       0.0       0.0  0.0  7.0        4.0     7.0  \n",
       "4      15.0       1.0  0.0  3.0        4.0     4.0  \n",
       "\n",
       "[5 rows x 22 columns]"
      ]
     },
     "execution_count": 9,
     "metadata": {},
     "output_type": "execute_result"
    }
   ],
   "source": [
    "train.head()"
   ]
  },
  {
   "cell_type": "code",
   "execution_count": 10,
   "id": "f500d0a8",
   "metadata": {},
   "outputs": [
    {
     "data": {
      "text/plain": [
       "<AxesSubplot:xlabel='PhysHlth', ylabel='Density'>"
      ]
     },
     "execution_count": 10,
     "metadata": {},
     "output_type": "execute_result"
    },
    {
     "data": {
      "image/png": "[encoded data removed]",
      "text/plain": [
       "<Figure size 432x288 with 1 Axes>"
      ]
     },
     "metadata": {
      "needs_background": "light"
     },
     "output_type": "display_data"
    }
   ],
   "source": [
    "sns.kdeplot(data=train, hue='GenHlth', x='PhysHlth', common_norm=False)"
   ]
  },
  {
   "cell_type": "code",
   "execution_count": 11,
   "id": "6a064db8",
   "metadata": {},
   "outputs": [
    {
     "data": {
      "text/plain": [
       "<AxesSubplot:xlabel='BMI', ylabel='Density'>"
      ]
     },
     "execution_count": 11,
     "metadata": {},
     "output_type": "execute_result"
    },
    {
     "data": {
      "image/png": "[encoded data removed]",
      "text/plain": [
       "<Figure size 432x288 with 1 Axes>"
      ]
     },
     "metadata": {
      "needs_background": "light"
     },
     "output_type": "display_data"
    }
   ],
   "source": [
    "sns.kdeplot(data=train, x = 'BMI', hue = 'y', common_norm=False)"
   ]
  },
  {
   "cell_type": "code",
   "execution_count": 12,
   "id": "b03eac86",
   "metadata": {
    "scrolled": false
   },
   "outputs": [],
   "source": [
    "def plot_pairwise(train):\n",
    "    fig, axs = plt.subplots(6, 4, figsize = (12, 9))\n",
    "    axs = axs.flatten()\n",
    "    features = train.drop('y', axis=1).columns\n",
    "    for i, f in enumerate(features):\n",
    "        to_display = train.groupby(f)[['y']].mean()\n",
    "        if to_display.shape[0] < 10:\n",
    "            to_display = to_display.rename(columns = {'y':'disease_proportion'})\n",
    "            to_display.plot(kind='bar', ax=axs[i], legend = False)\n",
    "        else:\n",
    "#             to_display.plot(kind='line', ax=axs[i], legend = False)\n",
    "            sns.kdeplot(data = train, x = f, hue = 'y', ax=axs[i], common_norm=False)\n",
    "    plt.tight_layout()"
   ]
  },
  {
   "cell_type": "code",
   "execution_count": 13,
   "id": "e60decc8",
   "metadata": {},
   "outputs": [
    {
     "data": {
      "image/png": "[encoded data removed]",
      "text/plain": [
       "<Figure size 864x648 with 24 Axes>"
      ]
     },
     "metadata": {
      "needs_background": "light"
     },
     "output_type": "display_data"
    }
   ],
   "source": [
    "plot_pairwise(train)"
   ]
  },
  {
   "cell_type": "code",
   "execution_count": 13,
   "id": "0119c57d",
   "metadata": {},
   "outputs": [],
   "source": [
    "X_train, y_train = train.drop('y', axis = 1), train['y']"
   ]
  },
  {
   "cell_type": "markdown",
   "id": "07a61419",
   "metadata": {},
   "source": [
    "### TODO:\n",
    "1. Over/undersampling to balance\n",
    "2. Algorithmically adjust for imbalance in model"
   ]
  },
  {
   "cell_type": "markdown",
   "id": "082401d0",
   "metadata": {},
   "source": [
    "## 2. Data-centric adjustments"
   ]
  },
  {
   "cell_type": "markdown",
   "id": "258bfa94",
   "metadata": {},
   "source": [
    "### 2.1 Oversampling using SmoteNC (nominal continuous)"
   ]
  },
  {
   "cell_type": "code",
   "execution_count": null,
   "id": "bfb09824",
   "metadata": {},
   "outputs": [],
   "source": [
    "cont_features = [3, 14, 15, 18]"
   ]
  },
  {
   "cell_type": "code",
   "execution_count": null,
   "id": "074d0592",
   "metadata": {},
   "outputs": [],
   "source": [
    "smote_nc = SMOTENC(categorical_features = list(set(range(len(X_train.columns))) - set(cont_features)), random_state=SEED)"
   ]
  },
  {
   "cell_type": "code",
   "execution_count": null,
   "id": "343699dc",
   "metadata": {},
   "outputs": [],
   "source": [
    "smote_nc"
   ]
  },
  {
   "cell_type": "code",
   "execution_count": null,
   "id": "3d152705",
   "metadata": {},
   "outputs": [],
   "source": [
    "X_train_resampled, y_trainresampled = smote_nc.fit_resample(X_train, y_train)"
   ]
  },
  {
   "cell_type": "code",
   "execution_count": null,
   "id": "12b0bb9a",
   "metadata": {},
   "outputs": [],
   "source": [
    "train_resampled = X_train_resampled.copy()\n",
    "train_resampled['y'] = y_trainresampled"
   ]
  },
  {
   "cell_type": "code",
   "execution_count": null,
   "id": "f0c75f73",
   "metadata": {},
   "outputs": [],
   "source": [
    "plot_pairwise(train_resampled)"
   ]
  },
  {
   "cell_type": "markdown",
   "id": "9460dd1c",
   "metadata": {},
   "source": [
    "Note how features like NoDocbcCost has the relationship of positive ratio flipped between the two classes. Similarly, the distribution of disease rate among features like education also shifts"
   ]
  },
  {
   "cell_type": "markdown",
   "id": "c9ee9ebe",
   "metadata": {},
   "source": [
    "## 3 Model-centric approach"
   ]
  },
  {
   "cell_type": "code",
   "execution_count": 19,
   "id": "e6865db0",
   "metadata": {},
   "outputs": [],
   "source": [
    "from sklearn.linear_model import LogisticRegressionCV\n",
    "from sklearn.metrics import SCORERS\n",
    "from sklearn.model_selection import cross_validate"
   ]
  },
  {
   "cell_type": "code",
   "execution_count": 20,
   "id": "0e0d7eda",
   "metadata": {},
   "outputs": [
    {
     "data": {
      "text/plain": [
       "dict_keys(['explained_variance', 'r2', 'max_error', 'neg_median_absolute_error', 'neg_mean_absolute_error', 'neg_mean_absolute_percentage_error', 'neg_mean_squared_error', 'neg_mean_squared_log_error', 'neg_root_mean_squared_error', 'neg_mean_poisson_deviance', 'neg_mean_gamma_deviance', 'accuracy', 'top_k_accuracy', 'roc_auc', 'roc_auc_ovr', 'roc_auc_ovo', 'roc_auc_ovr_weighted', 'roc_auc_ovo_weighted', 'balanced_accuracy', 'average_precision', 'neg_log_loss', 'neg_brier_score', 'adjusted_rand_score', 'rand_score', 'homogeneity_score', 'completeness_score', 'v_measure_score', 'mutual_info_score', 'adjusted_mutual_info_score', 'normalized_mutual_info_score', 'fowlkes_mallows_score', 'precision', 'precision_macro', 'precision_micro', 'precision_samples', 'precision_weighted', 'recall', 'recall_macro', 'recall_micro', 'recall_samples', 'recall_weighted', 'f1', 'f1_macro', 'f1_micro', 'f1_samples', 'f1_weighted', 'jaccard', 'jaccard_macro', 'jaccard_micro', 'jaccard_samples', 'jaccard_weighted'])"
      ]
     },
     "execution_count": 20,
     "metadata": {},
     "output_type": "execute_result"
    }
   ],
   "source": [
    "SCORERS.keys()"
   ]
  },
  {
   "cell_type": "markdown",
   "id": "327e69cd",
   "metadata": {},
   "source": [
    "### 3.1 Setting a baseline model\n",
    "A logistic regression with adjusted class weight (normalized by proportion, conveniently dubbed 'balanced' in sklearn)"
   ]
  },
  {
   "cell_type": "markdown",
   "id": "7161e31f",
   "metadata": {},
   "source": [
    "The default solver lbfgs has problem converging. Try:\n",
    "1. raising iterations \n",
    "2. using a first order solver (trading performance for convergence)\n",
    "- Note that if choosing solvers that require random shuffling of data, random_state needs to be stipulated to ensure convergence on every run "
   ]
  },
  {
   "cell_type": "code",
   "execution_count": 21,
   "id": "4797b48c",
   "metadata": {},
   "outputs": [],
   "source": [
    "Cs = [1e-4, 1e-3, 1e-2, 1e-1, 1, 1e1, 1e2]"
   ]
  },
  {
   "cell_type": "code",
   "execution_count": 22,
   "id": "421effdb",
   "metadata": {},
   "outputs": [],
   "source": [
    "lr = LogisticRegressionCV(Cs = Cs, \n",
    "                          class_weight='balanced', \n",
    "                          scoring = 'f1', \n",
    "                          solver='sag',\n",
    "                          random_state = 666,\n",
    "                          cv=3)"
   ]
  },
  {
   "cell_type": "code",
   "execution_count": 23,
   "id": "ab3d8b1c",
   "metadata": {},
   "outputs": [
    {
     "data": {
      "text/plain": [
       "LogisticRegressionCV(Cs=[0.0001, 0.001, 0.01, 0.1, 1, 10.0, 100.0],\n",
       "                     class_weight='balanced', cv=3, random_state=666,\n",
       "                     scoring='f1', solver='sag')"
      ]
     },
     "execution_count": 23,
     "metadata": {},
     "output_type": "execute_result"
    }
   ],
   "source": [
    "lr.fit(X_train, y_train)"
   ]
  },
  {
   "cell_type": "code",
   "execution_count": 24,
   "id": "55704007",
   "metadata": {},
   "outputs": [
    {
     "data": {
      "text/html": [
       "<div>\n",
       "<style scoped>\n",
       "    .dataframe tbody tr th:only-of-type {\n",
       "        vertical-align: middle;\n",
       "    }\n",
       "\n",
       "    .dataframe tbody tr th {\n",
       "        vertical-align: top;\n",
       "    }\n",
       "\n",
       "    .dataframe thead th {\n",
       "        text-align: right;\n",
       "    }\n",
       "</style>\n",
       "<table border=\"1\" class=\"dataframe\">\n",
       "  <thead>\n",
       "    <tr style=\"text-align: right;\">\n",
       "      <th></th>\n",
       "      <th>C = 0.0001</th>\n",
       "      <th>C = 0.001</th>\n",
       "      <th>C = 0.01</th>\n",
       "      <th>C = 0.1</th>\n",
       "      <th>C = 1</th>\n",
       "      <th>C = 10.0</th>\n",
       "      <th>C = 100.0</th>\n",
       "    </tr>\n",
       "  </thead>\n",
       "  <tbody>\n",
       "    <tr>\n",
       "      <th>0</th>\n",
       "      <td>0.357659</td>\n",
       "      <td>0.372914</td>\n",
       "      <td>0.375297</td>\n",
       "      <td>0.375804</td>\n",
       "      <td>0.375730</td>\n",
       "      <td>0.375743</td>\n",
       "      <td>0.375756</td>\n",
       "    </tr>\n",
       "    <tr>\n",
       "      <th>1</th>\n",
       "      <td>0.358746</td>\n",
       "      <td>0.372642</td>\n",
       "      <td>0.375444</td>\n",
       "      <td>0.375952</td>\n",
       "      <td>0.376035</td>\n",
       "      <td>0.376048</td>\n",
       "      <td>0.376048</td>\n",
       "    </tr>\n",
       "    <tr>\n",
       "      <th>2</th>\n",
       "      <td>0.361821</td>\n",
       "      <td>0.376258</td>\n",
       "      <td>0.378614</td>\n",
       "      <td>0.378833</td>\n",
       "      <td>0.378883</td>\n",
       "      <td>0.378953</td>\n",
       "      <td>0.378923</td>\n",
       "    </tr>\n",
       "  </tbody>\n",
       "</table>\n",
       "</div>"
      ],
      "text/plain": [
       "   C = 0.0001  C = 0.001  C = 0.01   C = 0.1     C = 1  C = 10.0  C = 100.0\n",
       "0    0.357659   0.372914  0.375297  0.375804  0.375730  0.375743   0.375756\n",
       "1    0.358746   0.372642  0.375444  0.375952  0.376035  0.376048   0.376048\n",
       "2    0.361821   0.376258  0.378614  0.378833  0.378883  0.378953   0.378923"
      ]
     },
     "execution_count": 24,
     "metadata": {},
     "output_type": "execute_result"
    }
   ],
   "source": [
    "pd.DataFrame(lr.scores_[1],columns=[f'C = {str(c)}' for c in Cs])"
   ]
  },
  {
   "cell_type": "code",
   "execution_count": 25,
   "id": "2b517a1d",
   "metadata": {},
   "outputs": [
    {
     "data": {
      "text/html": [
       "<div>\n",
       "<style scoped>\n",
       "    .dataframe tbody tr th:only-of-type {\n",
       "        vertical-align: middle;\n",
       "    }\n",
       "\n",
       "    .dataframe tbody tr th {\n",
       "        vertical-align: top;\n",
       "    }\n",
       "\n",
       "    .dataframe thead th {\n",
       "        text-align: right;\n",
       "    }\n",
       "</style>\n",
       "<table border=\"1\" class=\"dataframe\">\n",
       "  <thead>\n",
       "    <tr style=\"text-align: right;\">\n",
       "      <th></th>\n",
       "      <th>feature</th>\n",
       "      <th>increase in odd</th>\n",
       "    </tr>\n",
       "  </thead>\n",
       "  <tbody>\n",
       "    <tr>\n",
       "      <th>5</th>\n",
       "      <td>Stroke</td>\n",
       "      <td>3.066368</td>\n",
       "    </tr>\n",
       "    <tr>\n",
       "      <th>17</th>\n",
       "      <td>Sex</td>\n",
       "      <td>2.236024</td>\n",
       "    </tr>\n",
       "    <tr>\n",
       "      <th>1</th>\n",
       "      <td>HighChol</td>\n",
       "      <td>1.883320</td>\n",
       "    </tr>\n",
       "    <tr>\n",
       "      <th>2</th>\n",
       "      <td>CholCheck</td>\n",
       "      <td>1.770328</td>\n",
       "    </tr>\n",
       "    <tr>\n",
       "      <th>0</th>\n",
       "      <td>HighBP</td>\n",
       "      <td>1.746313</td>\n",
       "    </tr>\n",
       "    <tr>\n",
       "      <th>13</th>\n",
       "      <td>GenHlth</td>\n",
       "      <td>1.644563</td>\n",
       "    </tr>\n",
       "    <tr>\n",
       "      <th>4</th>\n",
       "      <td>Smoker</td>\n",
       "      <td>1.457821</td>\n",
       "    </tr>\n",
       "    <tr>\n",
       "      <th>16</th>\n",
       "      <td>DiffWalk</td>\n",
       "      <td>1.373383</td>\n",
       "    </tr>\n",
       "    <tr>\n",
       "      <th>12</th>\n",
       "      <td>NoDocbcCost</td>\n",
       "      <td>1.325868</td>\n",
       "    </tr>\n",
       "    <tr>\n",
       "      <th>18</th>\n",
       "      <td>Age</td>\n",
       "      <td>1.317211</td>\n",
       "    </tr>\n",
       "    <tr>\n",
       "      <th>6</th>\n",
       "      <td>Diabetes</td>\n",
       "      <td>1.176939</td>\n",
       "    </tr>\n",
       "    <tr>\n",
       "      <th>7</th>\n",
       "      <td>PhysActivity</td>\n",
       "      <td>1.037453</td>\n",
       "    </tr>\n",
       "    <tr>\n",
       "      <th>9</th>\n",
       "      <td>Veggies</td>\n",
       "      <td>1.023584</td>\n",
       "    </tr>\n",
       "    <tr>\n",
       "      <th>8</th>\n",
       "      <td>Fruits</td>\n",
       "      <td>1.009198</td>\n",
       "    </tr>\n",
       "    <tr>\n",
       "      <th>14</th>\n",
       "      <td>MentHlth</td>\n",
       "      <td>1.004960</td>\n",
       "    </tr>\n",
       "    <tr>\n",
       "      <th>15</th>\n",
       "      <td>PhysHlth</td>\n",
       "      <td>1.003907</td>\n",
       "    </tr>\n",
       "    <tr>\n",
       "      <th>3</th>\n",
       "      <td>BMI</td>\n",
       "      <td>1.000283</td>\n",
       "    </tr>\n",
       "    <tr>\n",
       "      <th>19</th>\n",
       "      <td>Education</td>\n",
       "      <td>0.999572</td>\n",
       "    </tr>\n",
       "    <tr>\n",
       "      <th>20</th>\n",
       "      <td>Income</td>\n",
       "      <td>0.949751</td>\n",
       "    </tr>\n",
       "    <tr>\n",
       "      <th>11</th>\n",
       "      <td>AnyHealthcare</td>\n",
       "      <td>0.904707</td>\n",
       "    </tr>\n",
       "    <tr>\n",
       "      <th>10</th>\n",
       "      <td>HvyAlcoholConsump</td>\n",
       "      <td>0.737684</td>\n",
       "    </tr>\n",
       "  </tbody>\n",
       "</table>\n",
       "</div>"
      ],
      "text/plain": [
       "              feature  increase in odd\n",
       "5              Stroke         3.066368\n",
       "17                Sex         2.236024\n",
       "1            HighChol         1.883320\n",
       "2           CholCheck         1.770328\n",
       "0              HighBP         1.746313\n",
       "13            GenHlth         1.644563\n",
       "4              Smoker         1.457821\n",
       "16           DiffWalk         1.373383\n",
       "12        NoDocbcCost         1.325868\n",
       "18                Age         1.317211\n",
       "6            Diabetes         1.176939\n",
       "7        PhysActivity         1.037453\n",
       "9             Veggies         1.023584\n",
       "8              Fruits         1.009198\n",
       "14           MentHlth         1.004960\n",
       "15           PhysHlth         1.003907\n",
       "3                 BMI         1.000283\n",
       "19          Education         0.999572\n",
       "20             Income         0.949751\n",
       "11      AnyHealthcare         0.904707\n",
       "10  HvyAlcoholConsump         0.737684"
      ]
     },
     "execution_count": 25,
     "metadata": {},
     "output_type": "execute_result"
    }
   ],
   "source": [
    "feature_importance = pd.DataFrame(\n",
    "    [(feature, np.exp(lr.coef_[0][i])) for i,feature in enumerate(X_train.columns)],\n",
    "    columns=['feature', 'increase in odd']).sort_values(by = 'increase in odd', ascending=False)\n",
    "feature_importance"
   ]
  },
  {
   "cell_type": "markdown",
   "id": "f5f7a69f",
   "metadata": {},
   "source": [
    "### 3.2 Treating the problem as an outlier detection problem"
   ]
  },
  {
   "cell_type": "code",
   "execution_count": 26,
   "id": "017c9ac0",
   "metadata": {},
   "outputs": [],
   "source": [
    "from sklearn.svm import OneClassSVM\n",
    "from sklearn.linear_model import SGDOneClassSVM\n",
    "from sklearn.metrics import f1_score, make_scorer\n",
    "from sklearn.neighbors import LocalOutlierFactor\n",
    "from sklearn.ensemble import IsolationForest\n",
    "from copy import deepcopy"
   ]
  },
  {
   "cell_type": "code",
   "execution_count": 27,
   "id": "5029f1af",
   "metadata": {},
   "outputs": [],
   "source": [
    "def binary_to_outlier(y):\n",
    "    y = deepcopy(y)\n",
    "    y[y==1] = -1\n",
    "    y[y==0] = 1\n",
    "    return y"
   ]
  },
  {
   "cell_type": "code",
   "execution_count": 28,
   "id": "3e41b6b6",
   "metadata": {},
   "outputs": [],
   "source": [
    "def outlier_to_binary(y):\n",
    "    y = deepcopy(y)\n",
    "    y[y==1] = 0\n",
    "    y[y==-1] = 1\n",
    "#     print(f'transformed: {np.sum(y)}')\n",
    "    return y"
   ]
  },
  {
   "cell_type": "code",
   "execution_count": 29,
   "id": "bfd20ab4",
   "metadata": {},
   "outputs": [],
   "source": [
    "def custom_f1_scorer(y, y_pred):\n",
    "    print(np.sum(y), np.sum(y_pred==-1))\n",
    "    y_pred = outlier_to_binary(y_pred)\n",
    "#     print(np.sum(y_pred==1))\n",
    "    return f1_score(y, y_pred)"
   ]
  },
  {
   "cell_type": "code",
   "execution_count": 30,
   "id": "1de66ecd",
   "metadata": {},
   "outputs": [],
   "source": [
    "outlier_svm = SGDOneClassSVM(nu=1, random_state=666)"
   ]
  },
  {
   "cell_type": "code",
   "execution_count": 31,
   "id": "ed07db19",
   "metadata": {},
   "outputs": [
    {
     "name": "stdout",
     "output_type": "stream",
     "text": [
      "10218.0 2980\n",
      "10091.0 3044\n"
     ]
    },
    {
     "data": {
      "text/plain": [
       "{'fit_time': array([0.15003014, 0.14352489]),\n",
       " 'score_time': array([0.04050803, 0.04150724]),\n",
       " 'test_score': array([0.02030611, 0.01903312])}"
      ]
     },
     "execution_count": 31,
     "metadata": {},
     "output_type": "execute_result"
    }
   ],
   "source": [
    "cross_validate(outlier_svm, X_train, y_train, cv=2, scoring=make_scorer(custom_f1_scorer))"
   ]
  },
  {
   "cell_type": "code",
   "execution_count": 32,
   "id": "7c045832",
   "metadata": {},
   "outputs": [
    {
     "name": "stderr",
     "output_type": "stream",
     "text": [
      "C:\\Users\\lishu\\Anaconda3\\lib\\site-packages\\sklearn\\base.py:450: UserWarning: X does not have valid feature names, but LocalOutlierFactor was fitted with feature names\n",
      "  warnings.warn(\n"
     ]
    },
    {
     "name": "stdout",
     "output_type": "stream",
     "text": [
      "10218.0 1057\n"
     ]
    },
    {
     "name": "stderr",
     "output_type": "stream",
     "text": [
      "C:\\Users\\lishu\\Anaconda3\\lib\\site-packages\\sklearn\\base.py:450: UserWarning: X does not have valid feature names, but LocalOutlierFactor was fitted with feature names\n",
      "  warnings.warn(\n"
     ]
    },
    {
     "name": "stdout",
     "output_type": "stream",
     "text": [
      "10091.0 723\n"
     ]
    },
    {
     "data": {
      "text/plain": [
       "{'fit_time': array([252.87169433, 222.24184155]),\n",
       " 'score_time': array([247.55126429, 221.64723706]),\n",
       " 'test_score': array([0.00177384, 0.00073978])}"
      ]
     },
     "execution_count": 32,
     "metadata": {},
     "output_type": "execute_result"
    }
   ],
   "source": [
    "cross_validate(LocalOutlierFactor(novelty=True), X_train, y_train, cv=2, scoring=make_scorer(custom_f1_scorer))"
   ]
  },
  {
   "cell_type": "code",
   "execution_count": 33,
   "id": "ea2aad50",
   "metadata": {
    "scrolled": true
   },
   "outputs": [
    {
     "name": "stdout",
     "output_type": "stream",
     "text": [
      "10218.0 36626\n",
      "10091.0 34136\n"
     ]
    },
    {
     "data": {
      "text/plain": [
       "{'fit_time': array([1.34492707, 1.28222489]),\n",
       " 'score_time': array([3.59212732, 3.47360635]),\n",
       " 'test_score': array([0.26415336, 0.26124313])}"
      ]
     },
     "execution_count": 33,
     "metadata": {},
     "output_type": "execute_result"
    }
   ],
   "source": [
    "cross_validate(IsolationForest(), X_train, y_train, cv=2, scoring=make_scorer(custom_f1_scorer))"
   ]
  },
  {
   "cell_type": "markdown",
   "id": "55db84d2",
   "metadata": {},
   "source": [
    "nah not good enough"
   ]
  },
  {
   "cell_type": "markdown",
   "id": "79a137ff",
   "metadata": {},
   "source": [
    "### 3.3 Rabbit hole"
   ]
  },
  {
   "cell_type": "markdown",
   "id": "0f369419",
   "metadata": {},
   "source": [
    "migrated to another notebook"
   ]
  },
  {
   "cell_type": "markdown",
   "id": "be00cc7d",
   "metadata": {},
   "source": [
    "## Second iteration: \n",
    "feature engineering and selection"
   ]
  },
  {
   "cell_type": "markdown",
   "id": "352e1125",
   "metadata": {},
   "source": [
    "Address Collinearity\n",
    "- GenHealth, MentHlth, PhyHlth\n",
    "- Education and Income"
   ]
  },
  {
   "cell_type": "code",
   "execution_count": 34,
   "id": "b2723530",
   "metadata": {},
   "outputs": [
    {
     "data": {
      "image/png": "[encoded data removed]",
      "text/plain": [
       "<Figure size 432x288 with 2 Axes>"
      ]
     },
     "metadata": {
      "needs_background": "light"
     },
     "output_type": "display_data"
    }
   ],
   "source": [
    "hm = sns.heatmap(train.corr().abs())"
   ]
  },
  {
   "cell_type": "code",
   "execution_count": null,
   "id": "0ea35b56",
   "metadata": {},
   "outputs": [],
   "source": []
  }
 ],
 "metadata": {
  "kernelspec": {
   "display_name": "Python 3",
   "language": "python",
   "name": "python3"
  },
  "language_info": {
   "codemirror_mode": {
    "name": "ipython",
    "version": 3
   },
   "file_extension": ".py",
   "mimetype": "text/x-python",
   "name": "python",
   "nbconvert_exporter": "python",
   "pygments_lexer": "ipython3",
   "version": "3.8.8"
  }
 },
 "nbformat": 4,
 "nbformat_minor": 5
}
