{
 "cells": [
  {
   "cell_type": "markdown",
   "id": "04f98e86",
   "metadata": {},
   "source": [
    "## Simple multi-layered-perceptron with Focal Loss criterion"
   ]
  },
  {
   "cell_type": "markdown",
   "id": "2753c7d7",
   "metadata": {},
   "source": [
    "paper reference: https://arxiv.org/pdf/1708.02002.pdf  \n",
    "**brief explanation on the loss function:** \n",
    "- Focal loss is a modified CrossEntropy loss  \n",
    "- Recall that cross entropy is $CE = \\begin{cases}\n",
    "      -log(p) & \\text{if $y$==1}\\\\\n",
    "      -log(1-p) & \\text{otherwise}\\\\\n",
    "    \\end{cases} $  \n",
    "    - for convenience we define $p_t$ to be $p$ when y==1 and $1-p$ otherwise. Therefore $CE = -\\log(p_t)$\n",
    "- A common regularization method to counteract class imbalance from cross entropy would be to put in a regularizer $\\alpha \\in [0, 1)$ in front  of CE such that the weight of CE is $alpha$ for y==1 and $1-alpha$ otherwise\n",
    "- researchers published the above mentioned paper stated that \n",
    "    - `the large class imbalance encountered during training of dense detectors overwhelms the cross entropy loss. Easily classified negatives comprise the majority of the loss and dominate the gradient. While α balances the importance of positive/negative examples, it does not differentiate between easy/hard examples`\n",
    "- Therefore, focal loss is postulated with the following formulation\n",
    "    - $FL = -(\\alpha)(1-p_t)^\\gamma CE = -(\\alpha)(1-p_t)^\\gamma \\log(p_t)$"
   ]
  },
  {
   "cell_type": "code",
   "execution_count": 52,
   "id": "01aaa358",
   "metadata": {},
   "outputs": [
    {
     "name": "stdout",
     "output_type": "stream",
     "text": [
      "The autoreload extension is already loaded. To reload it, use:\n",
      "  %reload_ext autoreload\n"
     ]
    }
   ],
   "source": [
    "# overall utility package\n",
    "import pandas as pd\n",
    "import numpy as np\n",
    "import matplotlib.pyplot as plt\n",
    "import seaborn as sns\n",
    "from sklearn.model_selection import train_test_split\n",
    "\n",
    "# pytorch library\n",
    "import torch\n",
    "from torch import nn\n",
    "import pandas as pd\n",
    "# import customm utility packages\n",
    "from src.FocalLoss import *\n",
    "from src.custom_dataset import CustomDataset\n",
    "from src.model import BaseMLP\n",
    "from src.deployment import *\n",
    "\n",
    "%matplotlib inline\n",
    "%load_ext autoreload\n",
    "%autoreload 2\n",
    "SEED = 666"
   ]
  },
  {
   "cell_type": "code",
   "execution_count": 18,
   "id": "97ec8f55",
   "metadata": {},
   "outputs": [],
   "source": [
    "# train = pd.read_csv('train.csv')\n",
    "# stratify_columns = ['y']\n",
    "# train, val = train_test_split(train, test_size=0.10, stratify=train[stratify_columns], random_state=SEED)\n",
    "# val.to_csv('validation.csv', index=False)\n",
    "# train.to_csv('train_subset.csv', index=False)"
   ]
  },
  {
   "cell_type": "code",
   "execution_count": 19,
   "id": "efe24868",
   "metadata": {},
   "outputs": [],
   "source": [
    "train = pd.read_csv('train_subset.csv')\n",
    "val = pd.read_csv('validation.csv')"
   ]
  },
  {
   "cell_type": "code",
   "execution_count": 20,
   "id": "1e33805e",
   "metadata": {},
   "outputs": [],
   "source": [
    "test = pd.read_csv('hold_out.csv')"
   ]
  },
  {
   "cell_type": "code",
   "execution_count": 21,
   "id": "fa401e85",
   "metadata": {},
   "outputs": [
    {
     "data": {
      "text/plain": [
       "(38052, 22)"
      ]
     },
     "execution_count": 21,
     "metadata": {},
     "output_type": "execute_result"
    }
   ],
   "source": [
    "test.shape"
   ]
  },
  {
   "cell_type": "code",
   "execution_count": 22,
   "id": "6f206498",
   "metadata": {},
   "outputs": [
    {
     "data": {
      "text/plain": [
       "(194065, 22)"
      ]
     },
     "execution_count": 22,
     "metadata": {},
     "output_type": "execute_result"
    }
   ],
   "source": [
    "train.shape"
   ]
  },
  {
   "cell_type": "code",
   "execution_count": 37,
   "id": "bd0c64b2",
   "metadata": {},
   "outputs": [
    {
     "name": "stdout",
     "output_type": "stream",
     "text": [
      "Epoch: 10: Train loss: 0.017310392730040102, Validation loss: 0.017563376722509353\n",
      "Epoch: 20: Train loss: 0.017040720826833857, Validation loss: 0.01712629098523327\n",
      "Epoch: 30: Train loss: 0.016960414123606056, Validation loss: 0.017037112907108003\n",
      "Epoch: 40: Train loss: 0.016924632749838266, Validation loss: 0.01702365165578066\n",
      "Epoch: 50: Train loss: 0.016907882173031456, Validation loss: 0.01706396721467103\n",
      "Epoch: 60: Train loss: 0.016900118460011136, Validation loss: 0.017100177022987283\n",
      "Epoch: 70: Train loss: 0.016897589038682843, Validation loss: 0.01701719789549028\n",
      "Epoch: 80: Train loss: 0.016889219300825455, Validation loss: 0.01699983935619026\n",
      "Epoch: 90: Train loss: 0.016882958261530773, Validation loss: 0.017000478017715998\n",
      "Epoch: 100: Train loss: 0.016876312017631023, Validation loss: 0.016957657811403324\n",
      "training finished\n"
     ]
    },
    {
     "data": {
      "text/plain": [
       "<matplotlib.legend.Legend at 0x1de98757190>"
      ]
     },
     "execution_count": 37,
     "metadata": {},
     "output_type": "execute_result"
    },
    {
     "data": {
      "image/png": "[encoded data removed]",
      "text/plain": [
       "<Figure size 432x288 with 1 Axes>"
      ]
     },
     "metadata": {
      "needs_background": "light"
     },
     "output_type": "display_data"
    }
   ],
   "source": [
    "net = mlp_run(train, val, batch_size=10, num_iter=100, gamma=4, gpu=False)"
   ]
  },
  {
   "cell_type": "markdown",
   "id": "1b9a82be",
   "metadata": {},
   "source": [
    "model is alright after ~30 epochs"
   ]
  },
  {
   "cell_type": "code",
   "execution_count": null,
   "id": "1cb07c3d",
   "metadata": {},
   "outputs": [
    {
     "name": "stdout",
     "output_type": "stream",
     "text": [
      "Epoch: 10: Train loss: 0.008688955826597304, Validation loss: 0.00875820499569874\n",
      "Epoch: 20: Train loss: 0.008628931806921062, Validation loss: 0.008712863988997498\n",
      "Epoch: 30: Train loss: 0.008612959347519432, Validation loss: 0.008683129488034532\n",
      "Epoch: 40: Train loss: 0.008602786301892413, Validation loss: 0.008672056229818247\n"
     ]
    }
   ],
   "source": [
    "net = mlp_run(train, val, batch_size=32, num_iter=50, gamma=5, gpu=False)"
   ]
  },
  {
   "cell_type": "code",
   "execution_count": null,
   "id": "63b384ce",
   "metadata": {},
   "outputs": [],
   "source": [
    "net = mlp_run(train, val, batch_size=32, num_iter=50, gamma=5, gpu=False)"
   ]
  },
  {
   "cell_type": "markdown",
   "id": "228ba8aa",
   "metadata": {},
   "source": [
    "Well shit I'm depressed"
   ]
  },
  {
   "cell_type": "markdown",
   "id": "e9e20d68",
   "metadata": {},
   "source": [
    "### Ref\n",
    "batch size vs training behavior https://medium.com/mini-distill/effect-of-batch-size-on-training-dynamics-21c14f7a716e  \n",
    "paper for focal loss: https://arxiv.org/pdf/1708.02002.pdf"
   ]
  },
  {
   "cell_type": "code",
   "execution_count": null,
   "id": "6dcdeeb4",
   "metadata": {},
   "outputs": [],
   "source": []
  }
 ],
 "metadata": {
  "kernelspec": {
   "display_name": "Python 3",
   "language": "python",
   "name": "python3"
  },
  "language_info": {
   "codemirror_mode": {
    "name": "ipython",
    "version": 3
   },
   "file_extension": ".py",
   "mimetype": "text/x-python",
   "name": "python",
   "nbconvert_exporter": "python",
   "pygments_lexer": "ipython3",
   "version": "3.8.8"
  }
 },
 "nbformat": 4,
 "nbformat_minor": 5
}
